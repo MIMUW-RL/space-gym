{
 "cells": [
  {
   "cell_type": "code",
   "execution_count": 34,
   "metadata": {
    "collapsed": true
   },
   "outputs": [],
   "source": [
    "import sympy"
   ]
  },
  {
   "cell_type": "markdown",
   "source": [
    "$a$ is hexagon side length"
   ],
   "metadata": {
    "collapsed": false,
    "pycharm": {
     "name": "#%% md\n"
    }
   }
  },
  {
   "cell_type": "code",
   "execution_count": 35,
   "outputs": [],
   "source": [
    "a = sympy.symbols('a')  # hexagon side length\n",
    "hex_height = a * sympy.sqrt(3)\n",
    "hex_width = 2 * a"
   ],
   "metadata": {
    "collapsed": false,
    "pycharm": {
     "name": "#%%\n"
    }
   }
  },
  {
   "cell_type": "markdown",
   "metadata": {
    "pycharm": {
     "name": "#%% md\n"
    }
   },
   "source": [
    "We consider rectangle tiling such that the biggest gaps are on the top and on the bottom, i.e. one of the following configurations\n",
    "![](hex_tiling_a.png)\n",
    "![](hex_tiling_b.png)"
   ]
  },
  {
   "cell_type": "markdown",
   "source": [
    "$r$ is number of (zig-zag) rows\n",
    "$c$ is number of columns\n",
    "$r=5$ and $c=6$ on the images above"
   ],
   "metadata": {
    "collapsed": false,
    "pycharm": {
     "name": "#%% md\n"
    }
   }
  },
  {
   "cell_type": "code",
   "execution_count": 36,
   "outputs": [],
   "source": [
    "r, c = sympy.symbols('r c')"
   ],
   "metadata": {
    "collapsed": false,
    "pycharm": {
     "name": "#%%\n"
    }
   }
  },
  {
   "cell_type": "markdown",
   "source": [
    "### Tiling width\n",
    "First column contributes one `hex_width` to tiling width.\n",
    "Each next column contributes `hex_width` minus horizontal overlap length,\n",
    "which equals $\\frac{1}{2} a$."
   ],
   "metadata": {
    "collapsed": false,
    "pycharm": {
     "name": "#%% md\n"
    }
   }
  },
  {
   "cell_type": "code",
   "execution_count": 90,
   "metadata": {
    "pycharm": {
     "name": "#%%\n"
    }
   },
   "outputs": [
    {
     "name": "stdout",
     "output_type": "stream",
     "text": [
      "3*a*(c - 1)/2 + 2*a\n"
     ]
    },
    {
     "data": {
      "text/plain": "3*a*(c - 1)/2 + 2*a",
      "text/latex": "$\\displaystyle \\frac{3 a \\left(c - 1\\right)}{2} + 2 a$"
     },
     "execution_count": 90,
     "metadata": {},
     "output_type": "execute_result"
    }
   ],
   "source": [
    "col_overlap = sympy.Rational(1, 2) * a\n",
    "tiling_width = hex_width + (c - 1) * (hex_width - col_overlap)\n",
    "print(tiling_width)\n",
    "tiling_width"
   ]
  },
  {
   "cell_type": "markdown",
   "source": [
    "### Tiling height\n",
    "First row contributes $\\frac{3}{2}$ `hex_height` to tiling height.\n",
    "Each next row contributes `hex_height`."
   ],
   "metadata": {
    "collapsed": false,
    "pycharm": {
     "name": "#%% md\n"
    }
   }
  },
  {
   "cell_type": "code",
   "execution_count": 45,
   "outputs": [],
   "source": [
    "tiling_height = sympy.Rational(3, 2) * hex_height + (r - 1) * hex_height"
   ],
   "metadata": {
    "collapsed": false,
    "pycharm": {
     "name": "#%%\n"
    }
   }
  },
  {
   "cell_type": "markdown",
   "source": [
    "### Growth of width vs height\n",
    "\n",
    "We will check which one of tiling height or width grows faster."
   ],
   "metadata": {
    "collapsed": false,
    "pycharm": {
     "name": "#%% md\n"
    }
   }
  },
  {
   "cell_type": "code",
   "execution_count": 46,
   "outputs": [],
   "source": [
    "x = sympy.symbols('x')\n",
    "tiling_height_fun = tiling_height.subs(r, x)\n",
    "tiling_width_fun = tiling_width.subs(c, x)\n",
    "diff_poly = sympy.Poly(tiling_height_fun - tiling_width_fun, x)\n",
    "diff_fun = diff_poly.as_expr()"
   ],
   "metadata": {
    "collapsed": false,
    "pycharm": {
     "name": "#%%\n"
    }
   }
  },
  {
   "cell_type": "markdown",
   "source": [
    "Height is bigger than width for 1 row or column:"
   ],
   "metadata": {
    "collapsed": false,
    "pycharm": {
     "name": "#%% md\n"
    }
   },
   "outputs": [
    {
     "ename": "SyntaxError",
     "evalue": "invalid syntax (Temp/ipykernel_14176/1004914460.py, line 1)",
     "output_type": "error",
     "traceback": [
      "\u001B[1;36m  File \u001B[1;32m\"C:\\Users\\Kajetan\\AppData\\Local\\Temp/ipykernel_14176/1004914460.py\"\u001B[1;36m, line \u001B[1;32m1\u001B[0m\n\u001B[1;33m    Height is bigger than width for 1 row or column:\u001B[0m\n\u001B[1;37m                     ^\u001B[0m\n\u001B[1;31mSyntaxError\u001B[0m\u001B[1;31m:\u001B[0m invalid syntax\n"
     ]
    }
   ],
   "execution_count": 23
  },
  {
   "cell_type": "code",
   "execution_count": 47,
   "outputs": [
    {
     "data": {
      "text/plain": "0.598076211353316*a",
      "text/latex": "$\\displaystyle 0.598076211353316 a$"
     },
     "execution_count": 47,
     "metadata": {},
     "output_type": "execute_result"
    }
   ],
   "source": [
    "diff_at_1 = diff_fun.as_expr().subs(x, 1)\n",
    "(diff_at_1).evalf()"
   ],
   "metadata": {
    "collapsed": false,
    "pycharm": {
     "name": "#%%\n"
    }
   }
  },
  {
   "cell_type": "markdown",
   "source": [
    "and the difference grows"
   ],
   "metadata": {
    "collapsed": false,
    "pycharm": {
     "name": "#%% md\n"
    }
   }
  },
  {
   "cell_type": "code",
   "execution_count": 48,
   "outputs": [
    {
     "data": {
      "text/plain": "0.232050807568877*a",
      "text/latex": "$\\displaystyle 0.232050807568877 a$"
     },
     "execution_count": 48,
     "metadata": {},
     "output_type": "execute_result"
    }
   ],
   "source": [
    "diff_poly.coeffs()[0].evalf()"
   ],
   "metadata": {
    "collapsed": false,
    "pycharm": {
     "name": "#%%\n"
    }
   }
  },
  {
   "cell_type": "markdown",
   "source": [
    "Motivated by this fact, we will be first fitting the number\n",
    "of rows together with hexagon side length to exactly match\n",
    "the world height. Then we will choose the highest number\n",
    "of columns that will fit within world width."
   ],
   "metadata": {
    "collapsed": false,
    "pycharm": {
     "name": "#%% md\n"
    }
   }
  },
  {
   "cell_type": "markdown",
   "source": [
    "### Computing $r, c$ and $a$\n",
    "In our case world is square. Denote world width and height by $s$.\n"
   ],
   "metadata": {
    "collapsed": false,
    "pycharm": {
     "name": "#%% md\n"
    }
   }
  },
  {
   "cell_type": "code",
   "execution_count": 49,
   "outputs": [],
   "source": [
    "s = sympy.symbols('s')"
   ],
   "metadata": {
    "collapsed": false,
    "pycharm": {
     "name": "#%%\n"
    }
   }
  },
  {
   "cell_type": "markdown",
   "source": [
    "We compute $a$ as a function of $s$ and $r$"
   ],
   "metadata": {
    "collapsed": false,
    "pycharm": {
     "name": "#%% md\n"
    }
   }
  },
  {
   "cell_type": "code",
   "source": [
    "s_is_tiling_height_eq = s - tiling_height\n",
    "a_sol = sympy.solvers.solve(s_is_tiling_height_eq, a)[0]\n",
    "print(a_sol)\n",
    "a_sol"
   ],
   "metadata": {
    "collapsed": false,
    "pycharm": {
     "name": "#%%\n"
    }
   },
   "execution_count": 84,
   "outputs": [
    {
     "name": "stdout",
     "output_type": "stream",
     "text": [
      "2*sqrt(3)*s/(3*(2*r + 1))\n"
     ]
    },
    {
     "data": {
      "text/plain": "2*sqrt(3)*s/(3*(2*r + 1))",
      "text/latex": "$\\displaystyle \\frac{2 \\sqrt{3} s}{3 \\left(2 r + 1\\right)}$"
     },
     "execution_count": 84,
     "metadata": {},
     "output_type": "execute_result"
    }
   ]
  },
  {
   "cell_type": "markdown",
   "source": [
    "and substitute it in the equation $s = $ `tiling_width`"
   ],
   "metadata": {
    "collapsed": false,
    "pycharm": {
     "name": "#%% md\n"
    }
   }
  },
  {
   "cell_type": "code",
   "execution_count": 87,
   "outputs": [
    {
     "name": "stdout",
     "output_type": "stream",
     "text": [
      "2*sqrt(3)*r/3 - 1/3 + sqrt(3)/3\n"
     ]
    },
    {
     "data": {
      "text/plain": "2*sqrt(3)*r/3 - 1/3 + sqrt(3)/3",
      "text/latex": "$\\displaystyle \\frac{2 \\sqrt{3} r}{3} - \\frac{1}{3} + \\frac{\\sqrt{3}}{3}$"
     },
     "execution_count": 87,
     "metadata": {},
     "output_type": "execute_result"
    }
   ],
   "source": [
    "s_is_tiling_width_eq = (s - tiling_width).subs(a, a_sol)\n",
    "c_real_sol = sympy.solve(s_is_tiling_width_eq, c)[0]\n",
    "print(c_real_sol)\n",
    "c_real_sol"
   ],
   "metadata": {
    "collapsed": false,
    "pycharm": {
     "name": "#%%\n"
    }
   }
  },
  {
   "cell_type": "markdown",
   "source": [
    "We want $r \\cdot c \\geq m$, where $m$ is minimal number of tiles."
   ],
   "metadata": {
    "collapsed": false,
    "pycharm": {
     "name": "#%% md\n"
    }
   }
  },
  {
   "cell_type": "code",
   "execution_count": 76,
   "outputs": [],
   "source": [
    "m = sympy.symbols('m')"
   ],
   "metadata": {
    "collapsed": false,
    "pycharm": {
     "name": "#%%\n"
    }
   }
  },
  {
   "cell_type": "markdown",
   "source": [
    "We solve equation $r \\cdot c = m$ for $r, c \\in \\mathbb{R}$\n",
    "to get lower bound on $r$."
   ],
   "metadata": {
    "collapsed": false,
    "pycharm": {
     "name": "#%% md\n"
    }
   }
  },
  {
   "cell_type": "code",
   "execution_count": 71,
   "outputs": [],
   "source": [
    "r_real_sols = sympy.solve(r * c_real_sol - m, r)"
   ],
   "metadata": {
    "collapsed": false,
    "pycharm": {
     "name": "#%%\n"
    }
   }
  },
  {
   "cell_type": "code",
   "execution_count": 77,
   "outputs": [
    {
     "data": {
      "text/plain": "-sqrt(72*sqrt(3)*m - 6*sqrt(3) + 12)/12 - 1/4 + sqrt(3)/12",
      "text/latex": "$\\displaystyle - \\frac{\\sqrt{72 \\sqrt{3} m - 6 \\sqrt{3} + 12}}{12} - \\frac{1}{4} + \\frac{\\sqrt{3}}{12}$"
     },
     "execution_count": 77,
     "metadata": {},
     "output_type": "execute_result"
    }
   ],
   "source": [
    "r_real_sols[0]"
   ],
   "metadata": {
    "collapsed": false,
    "pycharm": {
     "name": "#%%\n"
    }
   }
  },
  {
   "cell_type": "code",
   "execution_count": 78,
   "outputs": [
    {
     "data": {
      "text/plain": "sqrt(72*sqrt(3)*m - 6*sqrt(3) + 12)/12 - 1/4 + sqrt(3)/12",
      "text/latex": "$\\displaystyle \\frac{\\sqrt{72 \\sqrt{3} m - 6 \\sqrt{3} + 12}}{12} - \\frac{1}{4} + \\frac{\\sqrt{3}}{12}$"
     },
     "execution_count": 78,
     "metadata": {},
     "output_type": "execute_result"
    }
   ],
   "source": [
    "r_real_sols[1]"
   ],
   "metadata": {
    "collapsed": false,
    "pycharm": {
     "name": "#%%\n"
    }
   }
  },
  {
   "cell_type": "markdown",
   "source": [
    "The first one is negative, the second one is positive"
   ],
   "metadata": {
    "collapsed": false,
    "pycharm": {
     "name": "#%% md\n"
    }
   }
  },
  {
   "cell_type": "code",
   "execution_count": 79,
   "outputs": [
    {
     "data": {
      "text/plain": "-0.9306048591021*(m + 0.0128917115316043)**0.5 - 0.105662432702594",
      "text/latex": "$\\displaystyle - 0.9306048591021 \\left(m + 0.0128917115316043\\right)^{0.5} - 0.105662432702594$"
     },
     "execution_count": 79,
     "metadata": {},
     "output_type": "execute_result"
    }
   ],
   "source": [
    "r_real_sols[0].evalf()"
   ],
   "metadata": {
    "collapsed": false,
    "pycharm": {
     "name": "#%%\n"
    }
   }
  },
  {
   "cell_type": "code",
   "execution_count": 80,
   "outputs": [
    {
     "data": {
      "text/plain": "0.9306048591021*(m + 0.0128917115316043)**0.5 - 0.105662432702594",
      "text/latex": "$\\displaystyle 0.9306048591021 \\left(m + 0.0128917115316043\\right)^{0.5} - 0.105662432702594$"
     },
     "execution_count": 80,
     "metadata": {},
     "output_type": "execute_result"
    }
   ],
   "source": [
    "r_real_sols[1].evalf()"
   ],
   "metadata": {
    "collapsed": false,
    "pycharm": {
     "name": "#%%\n"
    }
   }
  },
  {
   "cell_type": "code",
   "execution_count": 83,
   "outputs": [
    {
     "name": "stdout",
     "output_type": "stream",
     "text": [
      "sqrt(72*sqrt(3)*m - 6*sqrt(3) + 12)/12 - 1/4 + sqrt(3)/12\n"
     ]
    }
   ],
   "source": [
    "r_real_sol = r_real_sols[1]\n",
    "print(r_real_sol)"
   ],
   "metadata": {
    "collapsed": false,
    "pycharm": {
     "name": "#%%\n"
    }
   }
  },
  {
   "cell_type": "code",
   "execution_count": null,
   "outputs": [],
   "source": [],
   "metadata": {
    "collapsed": false,
    "pycharm": {
     "name": "#%%\n"
    }
   }
  }
 ],
 "metadata": {
  "kernelspec": {
   "display_name": "Python 3 (ipykernel)",
   "language": "python",
   "name": "python3"
  },
  "language_info": {
   "codemirror_mode": {
    "name": "ipython",
    "version": 3
   },
   "file_extension": ".py",
   "mimetype": "text/x-python",
   "name": "python",
   "nbconvert_exporter": "python",
   "pygments_lexer": "ipython3",
   "version": "3.9.2"
  }
 },
 "nbformat": 4,
 "nbformat_minor": 1
}