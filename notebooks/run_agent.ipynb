{
 "cells": [
  {
   "cell_type": "code",
   "execution_count": 1,
   "outputs": [
    {
     "name": "stderr",
     "output_type": "stream",
     "text": [
      "/home/kajetan/git/gym-space/.venv/lib/python3.8/site-packages/gym/logger.py:30: UserWarning: \u001B[33mWARN: Box bound precision lowered by casting to float32\u001B[0m\n",
      "  warnings.warn(colorize('%s: %s'%('WARN', msg % args), 'yellow'))\n"
     ]
    }
   ],
   "source": [
    "from spinup.utils.test_policy import load_pytorch_policy, run_policy\n",
    "from gym_space.envs.do_not_crash import DoNotCrashContinuousEnv\n",
    "# output_dir = \"donotcrash-td3-0088d78a00e48393b3661587168317e4/donotcrash-td3-0088d78a00e48393b3661587168317e4_s1\"\n",
    "# output_path = f\"/home/kajetan/git/spinningup/data/{output_dir}\"\n",
    "env = DoNotCrashContinuousEnv()\n",
    "output_path = f\"/home/kajetan/Downloads\""
   ],
   "metadata": {
    "collapsed": false,
    "pycharm": {
     "name": "#%%\n"
    }
   }
  },
  {
   "cell_type": "code",
   "execution_count": 2,
   "outputs": [
    {
     "name": "stdout",
     "output_type": "stream",
     "text": [
      "\n",
      "\n",
      "Loading from /home/kajetan/Downloads/pyt_save/model500.pt.\n",
      "\n",
      "\n",
      "\u001B[32;1mLogging data to /tmp/experiments/1623324973/progress.txt\u001B[0m\n",
      "Episode 0 \t EpRet 100.000 \t EpLen 1000\n",
      "Episode 1 \t EpRet 5.500 \t EpLen 55\n",
      "Episode 2 \t EpRet 100.000 \t EpLen 1000\n",
      "Episode 3 \t EpRet 100.000 \t EpLen 1000\n",
      "Episode 4 \t EpRet 31.000 \t EpLen 310\n",
      "Episode 5 \t EpRet 100.000 \t EpLen 1000\n",
      "Episode 6 \t EpRet 100.000 \t EpLen 1000\n",
      "Episode 7 \t EpRet 100.000 \t EpLen 1000\n",
      "Episode 8 \t EpRet 100.000 \t EpLen 1000\n",
      "Episode 9 \t EpRet 100.000 \t EpLen 1000\n",
      "Episode 10 \t EpRet 15.100 \t EpLen 151\n",
      "Episode 11 \t EpRet 100.000 \t EpLen 1000\n",
      "Episode 12 \t EpRet 100.000 \t EpLen 1000\n",
      "Episode 13 \t EpRet 100.000 \t EpLen 1000\n",
      "Episode 14 \t EpRet 100.000 \t EpLen 1000\n",
      "Episode 15 \t EpRet 100.000 \t EpLen 1000\n",
      "Episode 16 \t EpRet 100.000 \t EpLen 1000\n",
      "Episode 17 \t EpRet 100.000 \t EpLen 1000\n",
      "Episode 18 \t EpRet 4.500 \t EpLen 45\n",
      "Episode 19 \t EpRet 100.000 \t EpLen 1000\n",
      "Episode 20 \t EpRet 100.000 \t EpLen 1000\n",
      "Episode 21 \t EpRet 19.800 \t EpLen 198\n",
      "Episode 22 \t EpRet 8.900 \t EpLen 89\n",
      "Episode 23 \t EpRet 100.000 \t EpLen 1000\n",
      "Episode 24 \t EpRet 100.000 \t EpLen 1000\n",
      "Episode 25 \t EpRet 4.500 \t EpLen 45\n",
      "Episode 26 \t EpRet 100.000 \t EpLen 1000\n",
      "Episode 27 \t EpRet 100.000 \t EpLen 1000\n",
      "Episode 28 \t EpRet 100.000 \t EpLen 1000\n",
      "Episode 29 \t EpRet 13.300 \t EpLen 133\n",
      "Episode 30 \t EpRet 7.500 \t EpLen 75\n",
      "Episode 31 \t EpRet 100.000 \t EpLen 1000\n",
      "Episode 32 \t EpRet 100.000 \t EpLen 1000\n",
      "Episode 33 \t EpRet 100.000 \t EpLen 1000\n",
      "Episode 34 \t EpRet 100.000 \t EpLen 1000\n",
      "Episode 35 \t EpRet 100.000 \t EpLen 1000\n",
      "Episode 36 \t EpRet 42.400 \t EpLen 424\n",
      "Episode 37 \t EpRet 16.500 \t EpLen 165\n",
      "Episode 38 \t EpRet 4.700 \t EpLen 47\n",
      "Episode 39 \t EpRet 5.100 \t EpLen 51\n",
      "Episode 40 \t EpRet 14.900 \t EpLen 149\n",
      "Episode 41 \t EpRet 5.500 \t EpLen 55\n",
      "Episode 42 \t EpRet 100.000 \t EpLen 1000\n",
      "Episode 43 \t EpRet 5.600 \t EpLen 56\n",
      "Episode 44 \t EpRet 100.000 \t EpLen 1000\n",
      "Episode 45 \t EpRet 100.000 \t EpLen 1000\n",
      "Episode 46 \t EpRet 100.000 \t EpLen 1000\n",
      "Episode 47 \t EpRet 100.000 \t EpLen 1000\n",
      "Episode 48 \t EpRet 100.000 \t EpLen 1000\n",
      "Episode 49 \t EpRet 100.000 \t EpLen 1000\n",
      "Episode 50 \t EpRet 100.000 \t EpLen 1000\n",
      "Episode 51 \t EpRet 5.800 \t EpLen 58\n",
      "Episode 52 \t EpRet 5.500 \t EpLen 55\n",
      "Episode 53 \t EpRet 100.000 \t EpLen 1000\n",
      "Episode 54 \t EpRet 100.000 \t EpLen 1000\n",
      "Episode 55 \t EpRet 100.000 \t EpLen 1000\n",
      "Episode 56 \t EpRet 100.000 \t EpLen 1000\n",
      "Episode 57 \t EpRet 8.500 \t EpLen 85\n",
      "Episode 58 \t EpRet 100.000 \t EpLen 1000\n",
      "Episode 59 \t EpRet 100.000 \t EpLen 1000\n",
      "Episode 60 \t EpRet 100.000 \t EpLen 1000\n",
      "Episode 61 \t EpRet 34.800 \t EpLen 348\n",
      "Episode 62 \t EpRet 100.000 \t EpLen 1000\n",
      "Episode 63 \t EpRet 100.000 \t EpLen 1000\n",
      "Episode 64 \t EpRet 100.000 \t EpLen 1000\n",
      "Episode 65 \t EpRet 100.000 \t EpLen 1000\n",
      "Episode 66 \t EpRet 100.000 \t EpLen 1000\n",
      "Episode 67 \t EpRet 100.000 \t EpLen 1000\n",
      "Episode 68 \t EpRet 100.000 \t EpLen 1000\n",
      "Episode 69 \t EpRet 100.000 \t EpLen 1000\n",
      "Episode 70 \t EpRet 100.000 \t EpLen 1000\n",
      "Episode 71 \t EpRet 100.000 \t EpLen 1000\n",
      "Episode 72 \t EpRet 100.000 \t EpLen 1000\n",
      "Episode 73 \t EpRet 7.900 \t EpLen 79\n",
      "Episode 74 \t EpRet 100.000 \t EpLen 1000\n",
      "Episode 75 \t EpRet 100.000 \t EpLen 1000\n",
      "Episode 76 \t EpRet 100.000 \t EpLen 1000\n",
      "Episode 77 \t EpRet 5.000 \t EpLen 50\n",
      "Episode 78 \t EpRet 100.000 \t EpLen 1000\n",
      "Episode 79 \t EpRet 5.600 \t EpLen 56\n",
      "Episode 80 \t EpRet 5.400 \t EpLen 54\n",
      "Episode 81 \t EpRet 100.000 \t EpLen 1000\n",
      "Episode 82 \t EpRet 100.000 \t EpLen 1000\n",
      "Episode 83 \t EpRet 100.000 \t EpLen 1000\n",
      "Episode 84 \t EpRet 100.000 \t EpLen 1000\n",
      "Episode 85 \t EpRet 100.000 \t EpLen 1000\n",
      "Episode 86 \t EpRet 14.600 \t EpLen 146\n",
      "Episode 87 \t EpRet 100.000 \t EpLen 1000\n",
      "Episode 88 \t EpRet 100.000 \t EpLen 1000\n",
      "Episode 89 \t EpRet 22.000 \t EpLen 220\n",
      "Episode 90 \t EpRet 4.800 \t EpLen 48\n",
      "Episode 91 \t EpRet 100.000 \t EpLen 1000\n",
      "Episode 92 \t EpRet 100.000 \t EpLen 1000\n",
      "Episode 93 \t EpRet 100.000 \t EpLen 1000\n",
      "Episode 94 \t EpRet 4.200 \t EpLen 42\n",
      "Episode 95 \t EpRet 5.900 \t EpLen 59\n",
      "Episode 96 \t EpRet 23.700 \t EpLen 237\n",
      "Episode 97 \t EpRet 100.000 \t EpLen 1000\n",
      "Episode 98 \t EpRet 21.100 \t EpLen 211\n",
      "Episode 99 \t EpRet 8.900 \t EpLen 89\n"
     ]
    },
    {
     "ename": "TypeError",
     "evalue": "'NoneType' object is not subscriptable",
     "output_type": "error",
     "traceback": [
      "\u001B[0;31m---------------------------------------------------------------------------\u001B[0m",
      "\u001B[0;31mTypeError\u001B[0m                                 Traceback (most recent call last)",
      "\u001B[0;32m<ipython-input-2-ae912383390d>\u001B[0m in \u001B[0;36m<module>\u001B[0;34m\u001B[0m\n\u001B[1;32m      1\u001B[0m \u001B[0;31m# _, get_action = load_policy_and_env(output_path)\u001B[0m\u001B[0;34m\u001B[0m\u001B[0;34m\u001B[0m\u001B[0;34m\u001B[0m\u001B[0m\n\u001B[1;32m      2\u001B[0m \u001B[0mget_action\u001B[0m \u001B[0;34m=\u001B[0m \u001B[0mload_pytorch_policy\u001B[0m\u001B[0;34m(\u001B[0m\u001B[0moutput_path\u001B[0m\u001B[0;34m,\u001B[0m \u001B[0mitr\u001B[0m\u001B[0;34m=\u001B[0m\u001B[0mstr\u001B[0m\u001B[0;34m(\u001B[0m\u001B[0;36m500\u001B[0m\u001B[0;34m)\u001B[0m\u001B[0;34m)\u001B[0m\u001B[0;34m\u001B[0m\u001B[0;34m\u001B[0m\u001B[0m\n\u001B[0;32m----> 3\u001B[0;31m \u001B[0mrun_policy\u001B[0m\u001B[0;34m(\u001B[0m\u001B[0menv\u001B[0m\u001B[0;34m,\u001B[0m \u001B[0mget_action\u001B[0m\u001B[0;34m)\u001B[0m\u001B[0;34m\u001B[0m\u001B[0;34m\u001B[0m\u001B[0m\n\u001B[0m\u001B[1;32m      4\u001B[0m \u001B[0;34m\u001B[0m\u001B[0m\n",
      "\u001B[0;32m~/git/spinningup/spinup/utils/test_policy.py\u001B[0m in \u001B[0;36mrun_policy\u001B[0;34m(env, get_action, max_ep_len, num_episodes, render)\u001B[0m\n\u001B[1;32m    110\u001B[0m             \u001B[0mn\u001B[0m \u001B[0;34m+=\u001B[0m \u001B[0;36m1\u001B[0m\u001B[0;34m\u001B[0m\u001B[0;34m\u001B[0m\u001B[0m\n\u001B[1;32m    111\u001B[0m \u001B[0;34m\u001B[0m\u001B[0m\n\u001B[0;32m--> 112\u001B[0;31m     \u001B[0mlogger\u001B[0m\u001B[0;34m.\u001B[0m\u001B[0mlog_tabular\u001B[0m\u001B[0;34m(\u001B[0m\u001B[0;34m'EpRet'\u001B[0m\u001B[0;34m,\u001B[0m \u001B[0mwith_min_and_max\u001B[0m\u001B[0;34m=\u001B[0m\u001B[0;32mTrue\u001B[0m\u001B[0;34m)\u001B[0m\u001B[0;34m\u001B[0m\u001B[0;34m\u001B[0m\u001B[0m\n\u001B[0m\u001B[1;32m    113\u001B[0m     \u001B[0mlogger\u001B[0m\u001B[0;34m.\u001B[0m\u001B[0mlog_tabular\u001B[0m\u001B[0;34m(\u001B[0m\u001B[0;34m'EpLen'\u001B[0m\u001B[0;34m,\u001B[0m \u001B[0maverage_only\u001B[0m\u001B[0;34m=\u001B[0m\u001B[0;32mTrue\u001B[0m\u001B[0;34m)\u001B[0m\u001B[0;34m\u001B[0m\u001B[0;34m\u001B[0m\u001B[0m\n\u001B[1;32m    114\u001B[0m     \u001B[0mlogger\u001B[0m\u001B[0;34m.\u001B[0m\u001B[0mdump_tabular\u001B[0m\u001B[0;34m(\u001B[0m\u001B[0;34m)\u001B[0m\u001B[0;34m\u001B[0m\u001B[0;34m\u001B[0m\u001B[0m\n",
      "\u001B[0;32m~/git/spinningup/spinup/utils/logx.py\u001B[0m in \u001B[0;36mlog_tabular\u001B[0;34m(self, key, val, with_min_and_max, average_only)\u001B[0m\n\u001B[1;32m    307\u001B[0m             \u001B[0mvals\u001B[0m \u001B[0;34m=\u001B[0m \u001B[0mnp\u001B[0m\u001B[0;34m.\u001B[0m\u001B[0mconcatenate\u001B[0m\u001B[0;34m(\u001B[0m\u001B[0mv\u001B[0m\u001B[0;34m)\u001B[0m \u001B[0;32mif\u001B[0m \u001B[0misinstance\u001B[0m\u001B[0;34m(\u001B[0m\u001B[0mv\u001B[0m\u001B[0;34m[\u001B[0m\u001B[0;36m0\u001B[0m\u001B[0;34m]\u001B[0m\u001B[0;34m,\u001B[0m \u001B[0mnp\u001B[0m\u001B[0;34m.\u001B[0m\u001B[0mndarray\u001B[0m\u001B[0;34m)\u001B[0m \u001B[0;32mand\u001B[0m \u001B[0mlen\u001B[0m\u001B[0;34m(\u001B[0m\u001B[0mv\u001B[0m\u001B[0;34m[\u001B[0m\u001B[0;36m0\u001B[0m\u001B[0;34m]\u001B[0m\u001B[0;34m.\u001B[0m\u001B[0mshape\u001B[0m\u001B[0;34m)\u001B[0m\u001B[0;34m>\u001B[0m\u001B[0;36m0\u001B[0m \u001B[0;32melse\u001B[0m \u001B[0mv\u001B[0m\u001B[0;34m\u001B[0m\u001B[0;34m\u001B[0m\u001B[0m\n\u001B[1;32m    308\u001B[0m             \u001B[0mstats\u001B[0m \u001B[0;34m=\u001B[0m \u001B[0mmpi_statistics_scalar\u001B[0m\u001B[0;34m(\u001B[0m\u001B[0mvals\u001B[0m\u001B[0;34m,\u001B[0m \u001B[0mwith_min_and_max\u001B[0m\u001B[0;34m=\u001B[0m\u001B[0mwith_min_and_max\u001B[0m\u001B[0;34m)\u001B[0m\u001B[0;34m\u001B[0m\u001B[0;34m\u001B[0m\u001B[0m\n\u001B[0;32m--> 309\u001B[0;31m             \u001B[0msuper\u001B[0m\u001B[0;34m(\u001B[0m\u001B[0;34m)\u001B[0m\u001B[0;34m.\u001B[0m\u001B[0mlog_tabular\u001B[0m\u001B[0;34m(\u001B[0m\u001B[0;34m'Average'\u001B[0m \u001B[0;34m+\u001B[0m \u001B[0mkey\u001B[0m\u001B[0;34m,\u001B[0m \u001B[0mstats\u001B[0m\u001B[0;34m[\u001B[0m\u001B[0;36m0\u001B[0m\u001B[0;34m]\u001B[0m\u001B[0;34m,\u001B[0m \u001B[0mneptune_prefix\u001B[0m\u001B[0;34m=\u001B[0m\u001B[0;34m'epoch'\u001B[0m\u001B[0;34m)\u001B[0m\u001B[0;34m\u001B[0m\u001B[0;34m\u001B[0m\u001B[0m\n\u001B[0m\u001B[1;32m    310\u001B[0m             \u001B[0;32mif\u001B[0m \u001B[0;32mnot\u001B[0m\u001B[0;34m(\u001B[0m\u001B[0maverage_only\u001B[0m\u001B[0;34m)\u001B[0m\u001B[0;34m:\u001B[0m\u001B[0;34m\u001B[0m\u001B[0;34m\u001B[0m\u001B[0m\n\u001B[1;32m    311\u001B[0m                 \u001B[0msuper\u001B[0m\u001B[0;34m(\u001B[0m\u001B[0;34m)\u001B[0m\u001B[0;34m.\u001B[0m\u001B[0mlog_tabular\u001B[0m\u001B[0;34m(\u001B[0m\u001B[0;34m'Std'\u001B[0m\u001B[0;34m+\u001B[0m\u001B[0mkey\u001B[0m\u001B[0;34m,\u001B[0m \u001B[0mstats\u001B[0m\u001B[0;34m[\u001B[0m\u001B[0;36m1\u001B[0m\u001B[0;34m]\u001B[0m\u001B[0;34m,\u001B[0m \u001B[0mneptune_prefix\u001B[0m\u001B[0;34m=\u001B[0m\u001B[0;34m'epoch'\u001B[0m\u001B[0;34m)\u001B[0m\u001B[0;34m\u001B[0m\u001B[0;34m\u001B[0m\u001B[0m\n",
      "\u001B[0;32m~/git/spinningup/spinup/utils/logx.py\u001B[0m in \u001B[0;36mlog_tabular\u001B[0;34m(self, key, val, neptune_prefix)\u001B[0m\n\u001B[1;32m    109\u001B[0m         \u001B[0;32massert\u001B[0m \u001B[0mkey\u001B[0m \u001B[0;32mnot\u001B[0m \u001B[0;32min\u001B[0m \u001B[0mself\u001B[0m\u001B[0;34m.\u001B[0m\u001B[0mlog_current_row\u001B[0m\u001B[0;34m,\u001B[0m \u001B[0;34m\"You already set %s this iteration. Maybe you forgot to call dump_tabular()\"\u001B[0m\u001B[0;34m%\u001B[0m\u001B[0mkey\u001B[0m\u001B[0;34m\u001B[0m\u001B[0;34m\u001B[0m\u001B[0m\n\u001B[1;32m    110\u001B[0m         \u001B[0mself\u001B[0m\u001B[0;34m.\u001B[0m\u001B[0mlog_current_row\u001B[0m\u001B[0;34m[\u001B[0m\u001B[0mkey\u001B[0m\u001B[0;34m]\u001B[0m \u001B[0;34m=\u001B[0m \u001B[0mval\u001B[0m\u001B[0;34m\u001B[0m\u001B[0;34m\u001B[0m\u001B[0m\n\u001B[0;32m--> 111\u001B[0;31m         \u001B[0mself\u001B[0m\u001B[0;34m.\u001B[0m\u001B[0mneptune_run\u001B[0m\u001B[0;34m[\u001B[0m\u001B[0;34mf\"{neptune_prefix}/{key}\"\u001B[0m\u001B[0;34m]\u001B[0m\u001B[0;34m.\u001B[0m\u001B[0mlog\u001B[0m\u001B[0;34m(\u001B[0m\u001B[0mval\u001B[0m\u001B[0;34m)\u001B[0m\u001B[0;34m\u001B[0m\u001B[0;34m\u001B[0m\u001B[0m\n\u001B[0m\u001B[1;32m    112\u001B[0m \u001B[0;34m\u001B[0m\u001B[0m\n\u001B[1;32m    113\u001B[0m     \u001B[0;32mdef\u001B[0m \u001B[0msave_config\u001B[0m\u001B[0;34m(\u001B[0m\u001B[0mself\u001B[0m\u001B[0;34m,\u001B[0m \u001B[0mconfig\u001B[0m\u001B[0;34m)\u001B[0m\u001B[0;34m:\u001B[0m\u001B[0;34m\u001B[0m\u001B[0;34m\u001B[0m\u001B[0m\n",
      "\u001B[0;31mTypeError\u001B[0m: 'NoneType' object is not subscriptable"
     ]
    }
   ],
   "source": [
    "get_action = load_pytorch_policy(output_path, itr=str(500))\n",
    "run_policy(env, get_action)"
   ],
   "metadata": {
    "collapsed": false,
    "pycharm": {
     "name": "#%%\n"
    }
   }
  },
  {
   "cell_type": "code",
   "execution_count": null,
   "outputs": [],
   "source": [],
   "metadata": {
    "collapsed": false,
    "pycharm": {
     "name": "#%%\n",
     "is_executing": true
    }
   }
  }
 ],
 "metadata": {
  "kernelspec": {
   "display_name": "Python 3",
   "language": "python",
   "name": "python3"
  },
  "language_info": {
   "codemirror_mode": {
    "name": "ipython",
    "version": 2
   },
   "file_extension": ".py",
   "mimetype": "text/x-python",
   "name": "python",
   "nbconvert_exporter": "python",
   "pygments_lexer": "ipython2",
   "version": "2.7.6"
  }
 },
 "nbformat": 4,
 "nbformat_minor": 0
}